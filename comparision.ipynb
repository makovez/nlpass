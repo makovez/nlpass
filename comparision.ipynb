{
 "cells": [
  {
   "cell_type": "code",
   "execution_count": 50,
   "metadata": {},
   "outputs": [],
   "source": [
    "# Libraries\n",
    "\n",
    "# Torch\n",
    "import torch.nn as nn\n",
    "import torch.optim as optim\n",
    "import torch.nn.functional as F\n",
    "import torchsummary\n",
    "import torch\n",
    "from torch.utils.data import DataLoader\n",
    "\n",
    "# General\n",
    "import numpy as np\n",
    "import random, os\n",
    "from tqdm import tqdm\n",
    "from collections import Counter\n",
    "\n",
    "# Training\n",
    "from torchmetrics import Accuracy, Precision, F1Score, Recall\n",
    "from torchvision.models import resnet50\n",
    "from torchvision.models import ResNet50_Weights\n",
    "\n",
    "# Data loading\n",
    "from torchvision.datasets import ImageFolder\n",
    "from PIL import Image\n",
    "from concurrent.futures import ThreadPoolExecutor, as_completed\n",
    "import albumentations as A\n",
    "from albumentations.pytorch import ToTensorV2\n",
    "\n",
    "# Plots\n",
    "from sklearn.metrics import confusion_matrix\n",
    "import matplotlib.pyplot as plt\n",
    "import seaborn as sns\n"
   ]
  },
  {
   "cell_type": "markdown",
   "metadata": {},
   "source": [
    "In the following code block, we'll define a custom data loader class along with the augmentations.\n",
    "\n",
    "The load_image_transform() method is used to load the image from disk and make sure it's in RGB channels. The grayscale single-channel is copied to all the 3 channels to allow easier comparision with pretrained models architectures.\n",
    "\n",
    "This data loader will be used within the training class, and it employs the __getitem__ method to iterate over each sample. When processing samples from the training dataset, it will apply the augmentations specified in self.transform. Additionally, if the image_net parameter is set to true, the input data will be normalized to match the distribution of inputs used for training the pretrained models (image net), specifically:\n",
    "\n",
    "A.Normalize(mean=[0.485, 0.456, 0.406], std=[0.229, 0.224, 0.225]) \n",
    "\n",
    "Let's proceed with the creation of the dataloader class:"
   ]
  },
  {
   "cell_type": "code",
   "execution_count": 27,
   "metadata": {},
   "outputs": [],
   "source": [
    "# Data Loading and augmentations\n",
    "\n",
    "\n",
    "class ChestXrayDatasetInMemory(ImageFolder):\n",
    "    def __init__(self, root_dir, aug=None, num_workers=32):\n",
    "        super().__init__(root=root_dir)\n",
    "        self.samples = self.samples\n",
    "        self.set_aug(aug)\n",
    "        self.num_workers = num_workers\n",
    "        self.images = []\n",
    "        self.labels = []\n",
    "        self.aug = aug\n",
    "        \n",
    "        \n",
    "        self.load_dataset_into_memory()\n",
    "\n",
    "    def set_aug(self, aug=False, image_net=True):\n",
    "        if aug:\n",
    "            self.transform = A.Compose([\n",
    "                # A.CLAHE(clip_limit=4.0, tile_grid_size=(8, 8)),\n",
    "                A.Rotate(limit=20, p=0.5),\n",
    "                A.HorizontalFlip(p=0.5),\n",
    "                A.ColorJitter(brightness=0.1, contrast=0.1, saturation=0.1, hue=0.1, p=1),\n",
    "                A.ShiftScaleRotate(shift_limit=0.1, scale_limit=0, rotate_limit=0, p=0.5),\n",
    "                A.Perspective(scale=(0.05, 0.15), keep_size=True, p=0.5),\n",
    "                A.RandomBrightnessContrast(brightness_limit=0.2, contrast_limit=0.2, p=0.5),\n",
    "                A.Resize(height=224, width=224),\n",
    "                (A.Normalize(mean=[0.485, 0.456, 0.406], std=[0.229, 0.224, 0.225]) if image_net else A.Normalize(mean=0, std=1)),\n",
    "                # A.Normalize(mean=0, std=1),\n",
    "                ToTensorV2()\n",
    "            ]) \n",
    "\n",
    "        else:\n",
    "            self.transform = A.Compose([\n",
    "                A.Resize(224, 224),  # Resize images to 200x200\n",
    "                # ToTensorV2(),          # Convert images to PyTorch tensors\n",
    "                (A.Normalize(mean=[0.485, 0.456, 0.406], std=[0.229, 0.224, 0.225]) if image_net else A.Normalize(mean=0, std=1)),\n",
    "                # A.Normalize(mean=0, std=1),\n",
    "                ToTensorV2()\n",
    "            ])\n",
    "\n",
    "    def load_image_transform(self, img_label_tuple):\n",
    "        img_path, label = img_label_tuple\n",
    "        # image = Image.open(img_path).convert('L')\n",
    "        image = Image.open(img_path).convert('RGB') # We convert to rgb to allow easier comparision between models\n",
    "        image = np.array(image)\n",
    "        return image, label\n",
    "\n",
    "    def load_dataset_into_memory(self):\n",
    "        # Using ThreadPoolExecutor to parallelize image loading\n",
    "        with ThreadPoolExecutor(max_workers=self.num_workers) as executor:  \n",
    "            # Prepare running tasks\n",
    "            futures = [executor.submit(self.load_image_transform, img_label) for img_label in self.samples]\n",
    "            results = []\n",
    "            \n",
    "            # Process as tasks complete\n",
    "            for future in tqdm(as_completed(futures), total=len(futures), desc=\"Loading dataset into memory\"):\n",
    "                image, label = future.result()\n",
    "                self.images.append(image)\n",
    "                self.labels.append(label)\n",
    "        \n",
    "        # Shuffle samples\n",
    "        indices = list(range(len(self.images)))\n",
    "        random.shuffle(indices)\n",
    "\n",
    "        # Use the shuffled indices to reorder both lists\n",
    "        self.images = [self.images[i] for i in indices]\n",
    "        self.labels = [self.labels[i] for i in indices]\n",
    "\n",
    "\n",
    "    def __getitem__(self, index):\n",
    "        image, label = self.images[index], self.labels[index]\n",
    "        image = self.transform(image=image)['image']\n",
    "        return image, label"
   ]
  },
  {
   "cell_type": "markdown",
   "metadata": {},
   "source": [
    "We will now define the Training class, which automates the process of training and evaluating the model.\n",
    "\n",
    "In the initialization, the class requires the specification of train_loader, test_loader, and the model itself. It also allows for the customization of various parameters, including the learning rate, weight decay, and the weights to balance the loss function.\n",
    "\n",
    "The chosen loss function is the cross-entropy function. For optimization, the Adam optimizer is used.\n",
    "\n",
    "Several performance metrics are tracked, such as Accuracy, Precision, Recall, and F1 Score.\n",
    "\n",
    "The train method takes a single argument, num_epochs, which specifies the epoch count. It iterates over batches from self.train_loader, processes each batch within a loop, transfers them to the GPU with .to(self.device), calculates the loss, and updates the optimizer. Performance metrics are computed during this process, and progress is visually tracked using a tqdm progress bar.\n",
    "\n",
    "In the test() method, the model is switched to evaluation mode, ensuring that weights remain unchanged during testing. This method is similar to the training process but operates on test_loader.\n"
   ]
  },
  {
   "cell_type": "code",
   "execution_count": 22,
   "metadata": {},
   "outputs": [],
   "source": [
    "# Training class\n",
    "\n",
    "device = torch.device(\"cuda\" if torch.cuda.is_available() else \"cpu\")\n",
    "\n",
    "class Trainer:\n",
    "    def __init__(self, train_loader, test_loader, model, lr=1e-5, weight_decay=1e-9, weights=[3876/(1342+3876), 1342/(1342+3876)]):\n",
    "        self.train_loader = train_loader\n",
    "        self.test_loader = test_loader\n",
    "        self.device = device\n",
    "        self.weights = torch.FloatTensor(weights).to(self.device)\n",
    "        # Initialize the model\n",
    "        self.model = model.to(self.device)\n",
    "        self.lr = lr\n",
    "        # Loss and optimizer\n",
    "        self.criterion = nn.CrossEntropyLoss(weight=self.weights)\n",
    "        self.optimizer = optim.Adam(self.model.parameters(), lr=lr)#, weight_decay=weight_decay)\n",
    "        # self.optimizer = optim.RMSprop(self.model.parameters(), lr=lr, weight_decay=weight_decay)\n",
    "        # self.optimizer = torch.optim.SGD(model.parameters(), lr=lr, momentum=0.9)\n",
    "        # Metrics\n",
    "        self.accuracy_metric = Accuracy(task='multiclass', num_classes=2,average='macro').to(self.device)\n",
    "        self.precision_metric = Precision(task='multiclass', num_classes=2, average='macro').to(self.device)\n",
    "        self.recall_metric = Recall(task='multiclass', num_classes=2, average='macro').to(self.device)\n",
    "        self.f1_metric = F1Score(task='multiclass', num_classes=2, average='macro').to(self.device)\n",
    "\n",
    "\n",
    "    def train(self, num_epochs=10):\n",
    "        accs = []\n",
    "        self.scheduler = torch.optim.lr_scheduler.ReduceLROnPlateau(self.optimizer, 'max', patience=2)\n",
    "\n",
    "        for epoch in range(num_epochs):\n",
    "            self.model.train()\n",
    "            running_loss = 0.0\n",
    "            \n",
    "            # Reset metrics at the start of each epoch\n",
    "            self.accuracy_metric.reset()\n",
    "            self.precision_metric.reset()\n",
    "            self.f1_metric.reset()\n",
    "            self.recall_metric.reset()\n",
    "            \n",
    "            with tqdm(self.train_loader, unit=\"batch\") as tepoch:\n",
    "                for images, labels in tepoch:\n",
    "                    tepoch.set_description(f\"Epoch {epoch+1}/{num_epochs}\")\n",
    "                    \n",
    "                    images, labels = images.to(self.device), labels.to(self.device)\n",
    "                    \n",
    "                    # Forward pass\n",
    "                    outputs = self.model(images)\n",
    "                    loss = self.criterion(outputs, labels)\n",
    "                    \n",
    "                    # Backward and optimize\n",
    "                    self.optimizer.zero_grad()\n",
    "                    loss.backward()\n",
    "                    self.optimizer.step()\n",
    "                    \n",
    "                    # Update metrics\n",
    "                    self.accuracy_metric.update(outputs, labels)\n",
    "                    self.precision_metric.update(outputs, labels)\n",
    "                    self.f1_metric.update(outputs, labels)\n",
    "                    self.recall_metric.update(outputs, labels)\n",
    "                    \n",
    "                    running_loss += loss.item()\n",
    "                    tepoch.set_postfix(loss=running_loss/len(self.train_loader))\n",
    "            \n",
    "            # Compute metrics at the end of each epoch\n",
    "            accuracy = self.accuracy_metric.compute()\n",
    "            precision = self.precision_metric.compute()\n",
    "            f1 = self.f1_metric.compute()\n",
    "            recall = self.recall_metric.compute()\n",
    "\n",
    "            accs.append(accuracy.item())\n",
    "            \n",
    "            # Print metrics at the end of each epoch\n",
    "            print(f'Epoch {epoch+1}/{num_epochs} - Loss: {running_loss/len(self.train_loader)}, '\n",
    "                f'Accuracy: {accuracy}, Precision: {precision}, F1 Score: {f1}, Recall: {recall}')\n",
    "\n",
    "            res = self.test()\n",
    "            self.scheduler.step(res['test_accuracy'])\n",
    "\n",
    "        return {\n",
    "            'train_accuracy': accuracy.item(),\n",
    "            'train_precision': precision.item(),\n",
    "            'train_recall': recall.item(),\n",
    "            'train_f1': f1.item(),\n",
    "            'train_acc_avg':np.array(accs).mean(),\n",
    "            'train_acc_std':np.array(accs).std(),\n",
    "            'train_sharpe':np.array(accs).mean()/np.array(accs).std(),\n",
    "        }\n",
    "\n",
    "    def test(self):\n",
    "        self.model.eval()\n",
    "\n",
    "        self.accuracy_metric.reset()\n",
    "        self.precision_metric.reset()\n",
    "        self.f1_metric.reset()\n",
    "        self.recall_metric.reset()\n",
    "\n",
    "        with torch.no_grad():\n",
    "            for images, labels in self.test_loader:\n",
    "                images, labels = images.to(self.device), labels.to(self.device)\n",
    "                outputs = self.model(images)\n",
    "                \n",
    "                # Update metrics\n",
    "                self.accuracy_metric.update(outputs, labels)\n",
    "                self.precision_metric.update(outputs, labels)\n",
    "                self.f1_metric.update(outputs, labels)\n",
    "                self.recall_metric.update(outputs, labels)\n",
    "\n",
    "            # Compute metrics\n",
    "            accuracy = self.accuracy_metric.compute()\n",
    "            precision = self.precision_metric.compute()\n",
    "            f1 = self.f1_metric.compute()\n",
    "            recall = self.recall_metric.compute()\n",
    "\n",
    "\n",
    "            print(f'Test - Accuracy: {accuracy:.2f}, Precision: {precision:.2f}, F1 Score: {f1:.2f}, Recall: {recall:.2f}')\n",
    "\n",
    "        return {\n",
    "            'test_accuracy': accuracy.item(),\n",
    "            'test_precision': precision.item(),\n",
    "            'test_recall': recall.item(),\n",
    "            'test_f1': f1.item()\n",
    "        }\n"
   ]
  },
  {
   "cell_type": "markdown",
   "metadata": {},
   "source": [
    "In the following section we will build the ResNet50 architecture (the best performing model amongst all the tested one).\n",
    "\n",
    "For the ResNet50 we will use the pretrained weights and change the last layer to output 2 classes instead of the 1k for imagenet."
   ]
  },
  {
   "cell_type": "code",
   "execution_count": 49,
   "metadata": {},
   "outputs": [
    {
     "name": "stdout",
     "output_type": "stream",
     "text": [
      "----------------------------------------------------------------\n",
      "        Layer (type)               Output Shape         Param #\n",
      "================================================================\n",
      "            Conv2d-1         [-1, 64, 112, 112]           9,408\n",
      "       BatchNorm2d-2         [-1, 64, 112, 112]             128\n",
      "              ReLU-3         [-1, 64, 112, 112]               0\n",
      "         MaxPool2d-4           [-1, 64, 56, 56]               0\n",
      "            Conv2d-5           [-1, 64, 56, 56]           4,096\n",
      "       BatchNorm2d-6           [-1, 64, 56, 56]             128\n",
      "              ReLU-7           [-1, 64, 56, 56]               0\n",
      "            Conv2d-8           [-1, 64, 56, 56]          36,864\n",
      "       BatchNorm2d-9           [-1, 64, 56, 56]             128\n",
      "             ReLU-10           [-1, 64, 56, 56]               0\n",
      "           Conv2d-11          [-1, 256, 56, 56]          16,384\n",
      "      BatchNorm2d-12          [-1, 256, 56, 56]             512\n",
      "           Conv2d-13          [-1, 256, 56, 56]          16,384\n",
      "      BatchNorm2d-14          [-1, 256, 56, 56]             512\n",
      "             ReLU-15          [-1, 256, 56, 56]               0\n",
      "       Bottleneck-16          [-1, 256, 56, 56]               0\n",
      "           Conv2d-17           [-1, 64, 56, 56]          16,384\n",
      "      BatchNorm2d-18           [-1, 64, 56, 56]             128\n",
      "             ReLU-19           [-1, 64, 56, 56]               0\n",
      "           Conv2d-20           [-1, 64, 56, 56]          36,864\n",
      "      BatchNorm2d-21           [-1, 64, 56, 56]             128\n",
      "             ReLU-22           [-1, 64, 56, 56]               0\n",
      "           Conv2d-23          [-1, 256, 56, 56]          16,384\n",
      "      BatchNorm2d-24          [-1, 256, 56, 56]             512\n",
      "             ReLU-25          [-1, 256, 56, 56]               0\n",
      "       Bottleneck-26          [-1, 256, 56, 56]               0\n",
      "           Conv2d-27           [-1, 64, 56, 56]          16,384\n",
      "      BatchNorm2d-28           [-1, 64, 56, 56]             128\n",
      "             ReLU-29           [-1, 64, 56, 56]               0\n",
      "           Conv2d-30           [-1, 64, 56, 56]          36,864\n",
      "      BatchNorm2d-31           [-1, 64, 56, 56]             128\n",
      "             ReLU-32           [-1, 64, 56, 56]               0\n",
      "           Conv2d-33          [-1, 256, 56, 56]          16,384\n",
      "      BatchNorm2d-34          [-1, 256, 56, 56]             512\n",
      "             ReLU-35          [-1, 256, 56, 56]               0\n",
      "       Bottleneck-36          [-1, 256, 56, 56]               0\n",
      "           Conv2d-37          [-1, 128, 56, 56]          32,768\n",
      "      BatchNorm2d-38          [-1, 128, 56, 56]             256\n",
      "             ReLU-39          [-1, 128, 56, 56]               0\n",
      "           Conv2d-40          [-1, 128, 28, 28]         147,456\n",
      "      BatchNorm2d-41          [-1, 128, 28, 28]             256\n",
      "             ReLU-42          [-1, 128, 28, 28]               0\n",
      "           Conv2d-43          [-1, 512, 28, 28]          65,536\n",
      "      BatchNorm2d-44          [-1, 512, 28, 28]           1,024\n",
      "           Conv2d-45          [-1, 512, 28, 28]         131,072\n",
      "      BatchNorm2d-46          [-1, 512, 28, 28]           1,024\n",
      "             ReLU-47          [-1, 512, 28, 28]               0\n",
      "       Bottleneck-48          [-1, 512, 28, 28]               0\n",
      "           Conv2d-49          [-1, 128, 28, 28]          65,536\n",
      "      BatchNorm2d-50          [-1, 128, 28, 28]             256\n",
      "             ReLU-51          [-1, 128, 28, 28]               0\n",
      "           Conv2d-52          [-1, 128, 28, 28]         147,456\n",
      "      BatchNorm2d-53          [-1, 128, 28, 28]             256\n",
      "             ReLU-54          [-1, 128, 28, 28]               0\n",
      "           Conv2d-55          [-1, 512, 28, 28]          65,536\n",
      "      BatchNorm2d-56          [-1, 512, 28, 28]           1,024\n",
      "             ReLU-57          [-1, 512, 28, 28]               0\n",
      "       Bottleneck-58          [-1, 512, 28, 28]               0\n",
      "           Conv2d-59          [-1, 128, 28, 28]          65,536\n",
      "      BatchNorm2d-60          [-1, 128, 28, 28]             256\n",
      "             ReLU-61          [-1, 128, 28, 28]               0\n",
      "           Conv2d-62          [-1, 128, 28, 28]         147,456\n",
      "      BatchNorm2d-63          [-1, 128, 28, 28]             256\n",
      "             ReLU-64          [-1, 128, 28, 28]               0\n",
      "           Conv2d-65          [-1, 512, 28, 28]          65,536\n",
      "      BatchNorm2d-66          [-1, 512, 28, 28]           1,024\n",
      "             ReLU-67          [-1, 512, 28, 28]               0\n",
      "       Bottleneck-68          [-1, 512, 28, 28]               0\n",
      "           Conv2d-69          [-1, 128, 28, 28]          65,536\n",
      "      BatchNorm2d-70          [-1, 128, 28, 28]             256\n",
      "             ReLU-71          [-1, 128, 28, 28]               0\n",
      "           Conv2d-72          [-1, 128, 28, 28]         147,456\n",
      "      BatchNorm2d-73          [-1, 128, 28, 28]             256\n",
      "             ReLU-74          [-1, 128, 28, 28]               0\n",
      "           Conv2d-75          [-1, 512, 28, 28]          65,536\n",
      "      BatchNorm2d-76          [-1, 512, 28, 28]           1,024\n",
      "             ReLU-77          [-1, 512, 28, 28]               0\n",
      "       Bottleneck-78          [-1, 512, 28, 28]               0\n",
      "           Conv2d-79          [-1, 256, 28, 28]         131,072\n",
      "      BatchNorm2d-80          [-1, 256, 28, 28]             512\n",
      "             ReLU-81          [-1, 256, 28, 28]               0\n",
      "           Conv2d-82          [-1, 256, 14, 14]         589,824\n",
      "      BatchNorm2d-83          [-1, 256, 14, 14]             512\n",
      "             ReLU-84          [-1, 256, 14, 14]               0\n",
      "           Conv2d-85         [-1, 1024, 14, 14]         262,144\n",
      "      BatchNorm2d-86         [-1, 1024, 14, 14]           2,048\n",
      "           Conv2d-87         [-1, 1024, 14, 14]         524,288\n",
      "      BatchNorm2d-88         [-1, 1024, 14, 14]           2,048\n",
      "             ReLU-89         [-1, 1024, 14, 14]               0\n",
      "       Bottleneck-90         [-1, 1024, 14, 14]               0\n",
      "           Conv2d-91          [-1, 256, 14, 14]         262,144\n",
      "      BatchNorm2d-92          [-1, 256, 14, 14]             512\n",
      "             ReLU-93          [-1, 256, 14, 14]               0\n",
      "           Conv2d-94          [-1, 256, 14, 14]         589,824\n",
      "      BatchNorm2d-95          [-1, 256, 14, 14]             512\n",
      "             ReLU-96          [-1, 256, 14, 14]               0\n",
      "           Conv2d-97         [-1, 1024, 14, 14]         262,144\n",
      "      BatchNorm2d-98         [-1, 1024, 14, 14]           2,048\n",
      "             ReLU-99         [-1, 1024, 14, 14]               0\n",
      "      Bottleneck-100         [-1, 1024, 14, 14]               0\n",
      "          Conv2d-101          [-1, 256, 14, 14]         262,144\n",
      "     BatchNorm2d-102          [-1, 256, 14, 14]             512\n",
      "            ReLU-103          [-1, 256, 14, 14]               0\n",
      "          Conv2d-104          [-1, 256, 14, 14]         589,824\n",
      "     BatchNorm2d-105          [-1, 256, 14, 14]             512\n",
      "            ReLU-106          [-1, 256, 14, 14]               0\n",
      "          Conv2d-107         [-1, 1024, 14, 14]         262,144\n",
      "     BatchNorm2d-108         [-1, 1024, 14, 14]           2,048\n",
      "            ReLU-109         [-1, 1024, 14, 14]               0\n",
      "      Bottleneck-110         [-1, 1024, 14, 14]               0\n",
      "          Conv2d-111          [-1, 256, 14, 14]         262,144\n",
      "     BatchNorm2d-112          [-1, 256, 14, 14]             512\n",
      "            ReLU-113          [-1, 256, 14, 14]               0\n",
      "          Conv2d-114          [-1, 256, 14, 14]         589,824\n",
      "     BatchNorm2d-115          [-1, 256, 14, 14]             512\n",
      "            ReLU-116          [-1, 256, 14, 14]               0\n",
      "          Conv2d-117         [-1, 1024, 14, 14]         262,144\n",
      "     BatchNorm2d-118         [-1, 1024, 14, 14]           2,048\n",
      "            ReLU-119         [-1, 1024, 14, 14]               0\n",
      "      Bottleneck-120         [-1, 1024, 14, 14]               0\n",
      "          Conv2d-121          [-1, 256, 14, 14]         262,144\n",
      "     BatchNorm2d-122          [-1, 256, 14, 14]             512\n",
      "            ReLU-123          [-1, 256, 14, 14]               0\n",
      "          Conv2d-124          [-1, 256, 14, 14]         589,824\n",
      "     BatchNorm2d-125          [-1, 256, 14, 14]             512\n",
      "            ReLU-126          [-1, 256, 14, 14]               0\n",
      "          Conv2d-127         [-1, 1024, 14, 14]         262,144\n",
      "     BatchNorm2d-128         [-1, 1024, 14, 14]           2,048\n",
      "            ReLU-129         [-1, 1024, 14, 14]               0\n",
      "      Bottleneck-130         [-1, 1024, 14, 14]               0\n",
      "          Conv2d-131          [-1, 256, 14, 14]         262,144\n",
      "     BatchNorm2d-132          [-1, 256, 14, 14]             512\n",
      "            ReLU-133          [-1, 256, 14, 14]               0\n",
      "          Conv2d-134          [-1, 256, 14, 14]         589,824\n",
      "     BatchNorm2d-135          [-1, 256, 14, 14]             512\n",
      "            ReLU-136          [-1, 256, 14, 14]               0\n",
      "          Conv2d-137         [-1, 1024, 14, 14]         262,144\n",
      "     BatchNorm2d-138         [-1, 1024, 14, 14]           2,048\n",
      "            ReLU-139         [-1, 1024, 14, 14]               0\n",
      "      Bottleneck-140         [-1, 1024, 14, 14]               0\n",
      "          Conv2d-141          [-1, 512, 14, 14]         524,288\n",
      "     BatchNorm2d-142          [-1, 512, 14, 14]           1,024\n",
      "            ReLU-143          [-1, 512, 14, 14]               0\n",
      "          Conv2d-144            [-1, 512, 7, 7]       2,359,296\n",
      "     BatchNorm2d-145            [-1, 512, 7, 7]           1,024\n",
      "            ReLU-146            [-1, 512, 7, 7]               0\n",
      "          Conv2d-147           [-1, 2048, 7, 7]       1,048,576\n",
      "     BatchNorm2d-148           [-1, 2048, 7, 7]           4,096\n",
      "          Conv2d-149           [-1, 2048, 7, 7]       2,097,152\n",
      "     BatchNorm2d-150           [-1, 2048, 7, 7]           4,096\n",
      "            ReLU-151           [-1, 2048, 7, 7]               0\n",
      "      Bottleneck-152           [-1, 2048, 7, 7]               0\n",
      "          Conv2d-153            [-1, 512, 7, 7]       1,048,576\n",
      "     BatchNorm2d-154            [-1, 512, 7, 7]           1,024\n",
      "            ReLU-155            [-1, 512, 7, 7]               0\n",
      "          Conv2d-156            [-1, 512, 7, 7]       2,359,296\n",
      "     BatchNorm2d-157            [-1, 512, 7, 7]           1,024\n",
      "            ReLU-158            [-1, 512, 7, 7]               0\n",
      "          Conv2d-159           [-1, 2048, 7, 7]       1,048,576\n",
      "     BatchNorm2d-160           [-1, 2048, 7, 7]           4,096\n",
      "            ReLU-161           [-1, 2048, 7, 7]               0\n",
      "      Bottleneck-162           [-1, 2048, 7, 7]               0\n",
      "          Conv2d-163            [-1, 512, 7, 7]       1,048,576\n",
      "     BatchNorm2d-164            [-1, 512, 7, 7]           1,024\n",
      "            ReLU-165            [-1, 512, 7, 7]               0\n",
      "          Conv2d-166            [-1, 512, 7, 7]       2,359,296\n",
      "     BatchNorm2d-167            [-1, 512, 7, 7]           1,024\n",
      "            ReLU-168            [-1, 512, 7, 7]               0\n",
      "          Conv2d-169           [-1, 2048, 7, 7]       1,048,576\n",
      "     BatchNorm2d-170           [-1, 2048, 7, 7]           4,096\n",
      "            ReLU-171           [-1, 2048, 7, 7]               0\n",
      "      Bottleneck-172           [-1, 2048, 7, 7]               0\n",
      "AdaptiveAvgPool2d-173           [-1, 2048, 1, 1]               0\n",
      "          Linear-174                    [-1, 2]           4,098\n",
      "================================================================\n",
      "Total params: 23,512,130\n",
      "Trainable params: 23,512,130\n",
      "Non-trainable params: 0\n",
      "----------------------------------------------------------------\n",
      "Input size (MB): 0.57\n",
      "Forward/backward pass size (MB): 286.55\n",
      "Params size (MB): 89.69\n",
      "Estimated Total Size (MB): 376.82\n",
      "----------------------------------------------------------------\n"
     ]
    }
   ],
   "source": [
    "# ResNet50\n",
    "model_resnet50 = resnet50(weights=ResNet50_Weights.DEFAULT)\n",
    "num_ftrs = model_resnet50.fc.in_features  # Get the number of features in input to the final fully connected layer\n",
    "model_resnet50.fc = nn.Linear(num_ftrs, 2)  # Adjust the layer to have 2 output features\n",
    "model_resnet50.to(device)\n",
    "\n",
    "torchsummary.summary(model_resnet50, (3, 224, 224))\n"
   ]
  },
  {
   "cell_type": "markdown",
   "metadata": {},
   "source": [
    "From the image below we can see that even if the ResNet50 network has more layers it is more lightweight compared to AlexNet and VGG16. \n",
    "\n",
    "The total trainable parameters are:\n",
    "- ResNet50 -> 24M\n",
    "- AlexNet -> 57M\n",
    "- VGG16 -> 138M\n"
   ]
  },
  {
   "cell_type": "markdown",
   "metadata": {},
   "source": [
    "Now, we will load the dataset into memory and set up two loaders: train_loader for the training phase and test_loader for testing. __We will not be loading the validation set__, as it consists of only one patient with eight samples, which we believe insufficient for effectively monitoring training overfitting."
   ]
  },
  {
   "cell_type": "code",
   "execution_count": 29,
   "metadata": {},
   "outputs": [
    {
     "name": "stderr",
     "output_type": "stream",
     "text": [
      "Loading dataset into memory: 100%|██████████| 5216/5216 [00:24<00:00, 210.16it/s]\n",
      "Loading dataset into memory: 100%|██████████| 624/624 [00:03<00:00, 188.59it/s]\n"
     ]
    }
   ],
   "source": [
    "# Training\n",
    "dataset_path  = 'data/chest_xray/' \n",
    "\n",
    "\n",
    "train_dataset = ChestXrayDatasetInMemory(os.path.join(dataset_path, 'train'), aug=True)\n",
    "test_dataset = ChestXrayDatasetInMemory(os.path.join(dataset_path, 'test'), aug=False)\n"
   ]
  },
  {
   "cell_type": "markdown",
   "metadata": {},
   "source": [
    "Let's now have a look at the train and test dataset distribution of the two labels: PNEUOMONIA and NORMAL."
   ]
  },
  {
   "cell_type": "code",
   "execution_count": 56,
   "metadata": {},
   "outputs": [],
   "source": [
    "def plot_class_distribution(dataset, dataset_name):\n",
    "    # Count the frequency of each class\n",
    "    label_counts = Counter(dataset.labels)\n",
    "    labels = list(label_counts.keys())\n",
    "    frequencies = list(label_counts.values())\n",
    "    \n",
    "    # Plotting\n",
    "    plt.figure(figsize=(10, 6))\n",
    "    plt.bar(labels, frequencies, color=['blue', 'orange'])\n",
    "    plt.title(f'Class Distribution in {dataset_name} Dataset')\n",
    "    plt.xlabel('Class')\n",
    "    plt.ylabel('Frequency')\n",
    "    plt.xticks(labels, ['PNEUNOMIA', 'NORMAL'])\n",
    "    plt.show()"
   ]
  },
  {
   "cell_type": "code",
   "execution_count": 57,
   "metadata": {},
   "outputs": [
    {
     "data": {
      "image/png": "[encoded data removed]",
      "text/plain": [
       "<Figure size 1000x600 with 1 Axes>"
      ]
     },
     "metadata": {},
     "output_type": "display_data"
    },
    {
     "data": {
      "image/png": "[encoded data removed]",
      "text/plain": [
       "<Figure size 1000x600 with 1 Axes>"
      ]
     },
     "metadata": {},
     "output_type": "display_data"
    }
   ],
   "source": [
    "plot_class_distribution(train_dataset, 'Training')\n",
    "plot_class_distribution(test_dataset, 'Testing')"
   ]
  },
  {
   "cell_type": "markdown",
   "metadata": {},
   "source": [
    "We can see that the dataset is clearly imbalance and this could lead to a biased result, where the model is better at predicting PNEUNOMIA rather than NORMAL classes. It is relvant to note that this is usuallhy preferred in the medical domain, to have less false negatives but can still have bad effects in the model. \n",
    "\n",
    "In the test we have performned we have seen that adding a weighting mechanism improves the model accuracy."
   ]
  },
  {
   "cell_type": "markdown",
   "metadata": {},
   "source": [
    "We will now start the training and show the result of the best performing model with the best performing parameters. \n",
    "\n",
    "Conducting a proper comparison of all models here is time-consuming and not the best approach. Therefore, we will focus on showing the top-performing model, ResNet50 (pretrained). For a detailed comparison, please refer to the table provided in the PDF uploaded on Canvas."
   ]
  },
  {
   "cell_type": "code",
   "execution_count": 43,
   "metadata": {},
   "outputs": [
    {
     "name": "stderr",
     "output_type": "stream",
     "text": [
      "  0%|          | 0/82 [00:00<?, ?batch/s]"
     ]
    },
    {
     "name": "stderr",
     "output_type": "stream",
     "text": [
      "Epoch 1/18: 100%|██████████| 82/82 [01:57<00:00,  1.43s/batch, loss=0.587] \n"
     ]
    },
    {
     "name": "stdout",
     "output_type": "stream",
     "text": [
      "Epoch 1/18 - Loss: 0.5871078103053861, Accuracy: 0.7903436422348022, Precision: 0.7313363552093506, F1 Score: 0.740298867225647, Recall: 0.7903436422348022\n",
      "Test - Accuracy: 0.83, Precision: 0.84, F1 Score: 0.83, Recall: 0.83\n"
     ]
    },
    {
     "name": "stderr",
     "output_type": "stream",
     "text": [
      "Epoch 2/18: 100%|██████████| 82/82 [01:56<00:00,  1.43s/batch, loss=0.329] \n"
     ]
    },
    {
     "name": "stdout",
     "output_type": "stream",
     "text": [
      "Epoch 2/18 - Loss: 0.32853500835779237, Accuracy: 0.9135716557502747, Precision: 0.8501579761505127, F1 Score: 0.8713784217834473, Recall: 0.9135716557502747\n",
      "Test - Accuracy: 0.84, Precision: 0.84, F1 Score: 0.84, Recall: 0.84\n"
     ]
    },
    {
     "name": "stderr",
     "output_type": "stream",
     "text": [
      "Epoch 3/18: 100%|██████████| 82/82 [01:57<00:00,  1.44s/batch, loss=0.218] \n"
     ]
    },
    {
     "name": "stdout",
     "output_type": "stream",
     "text": [
      "Epoch 3/18 - Loss: 0.2183589862614143, Accuracy: 0.9324531555175781, Precision: 0.8838109970092773, F1 Score: 0.9031507968902588, Recall: 0.9324531555175781\n",
      "Test - Accuracy: 0.86, Precision: 0.89, F1 Score: 0.87, Recall: 0.86\n"
     ]
    },
    {
     "name": "stderr",
     "output_type": "stream",
     "text": [
      "Epoch 4/18: 100%|██████████| 82/82 [01:58<00:00,  1.44s/batch, loss=0.173] \n"
     ]
    },
    {
     "name": "stdout",
     "output_type": "stream",
     "text": [
      "Epoch 4/18 - Loss: 0.17254834049722043, Accuracy: 0.9480811357498169, Precision: 0.910529375076294, F1 Score: 0.926709771156311, Recall: 0.9480811357498169\n",
      "Test - Accuracy: 0.89, Precision: 0.91, F1 Score: 0.90, Recall: 0.89\n"
     ]
    },
    {
     "name": "stderr",
     "output_type": "stream",
     "text": [
      "Epoch 5/18: 100%|██████████| 82/82 [01:57<00:00,  1.44s/batch, loss=0.149] \n"
     ]
    },
    {
     "name": "stdout",
     "output_type": "stream",
     "text": [
      "Epoch 5/18 - Loss: 0.14875259077767047, Accuracy: 0.9508762359619141, Precision: 0.9203304648399353, F1 Score: 0.9339717030525208, Recall: 0.9508762359619141\n",
      "Test - Accuracy: 0.90, Precision: 0.93, F1 Score: 0.91, Recall: 0.90\n"
     ]
    },
    {
     "name": "stderr",
     "output_type": "stream",
     "text": [
      "Epoch 6/18: 100%|██████████| 82/82 [01:57<00:00,  1.43s/batch, loss=0.132] \n"
     ]
    },
    {
     "name": "stdout",
     "output_type": "stream",
     "text": [
      "Epoch 6/18 - Loss: 0.13196368102075123, Accuracy: 0.9564682245254517, Precision: 0.9289853572845459, F1 Score: 0.9414523243904114, Recall: 0.9564682245254517\n",
      "Test - Accuracy: 0.91, Precision: 0.94, F1 Score: 0.92, Recall: 0.91\n"
     ]
    },
    {
     "name": "stderr",
     "output_type": "stream",
     "text": [
      "Epoch 7/18: 100%|██████████| 82/82 [01:57<00:00,  1.43s/batch, loss=0.128]  \n"
     ]
    },
    {
     "name": "stdout",
     "output_type": "stream",
     "text": [
      "Epoch 7/18 - Loss: 0.12809269929804454, Accuracy: 0.9550907611846924, Precision: 0.9341697692871094, F1 Score: 0.9439136981964111, Recall: 0.9550907611846924\n",
      "Test - Accuracy: 0.91, Precision: 0.94, F1 Score: 0.92, Recall: 0.91\n"
     ]
    },
    {
     "name": "stderr",
     "output_type": "stream",
     "text": [
      "Epoch 8/18: 100%|██████████| 82/82 [01:56<00:00,  1.42s/batch, loss=0.122] \n"
     ]
    },
    {
     "name": "stdout",
     "output_type": "stream",
     "text": [
      "Epoch 8/18 - Loss: 0.12203672846279494, Accuracy: 0.9573856592178345, Precision: 0.9317950010299683, F1 Score: 0.9434998035430908, Recall: 0.9573856592178345\n",
      "Test - Accuracy: 0.92, Precision: 0.95, F1 Score: 0.93, Recall: 0.92\n"
     ]
    },
    {
     "name": "stderr",
     "output_type": "stream",
     "text": [
      "Epoch 9/18: 100%|██████████| 82/82 [01:58<00:00,  1.45s/batch, loss=0.108] \n"
     ]
    },
    {
     "name": "stdout",
     "output_type": "stream",
     "text": [
      "Epoch 9/18 - Loss: 0.10751175587406246, Accuracy: 0.9632072448730469, Precision: 0.9398549795150757, F1 Score: 0.950650155544281, Recall: 0.9632072448730469\n",
      "Test - Accuracy: 0.93, Precision: 0.95, F1 Score: 0.94, Recall: 0.93\n"
     ]
    },
    {
     "name": "stderr",
     "output_type": "stream",
     "text": [
      "Epoch 10/18: 100%|██████████| 82/82 [01:56<00:00,  1.43s/batch, loss=0.0986]\n"
     ]
    },
    {
     "name": "stdout",
     "output_type": "stream",
     "text": [
      "Epoch 10/18 - Loss: 0.09864932739334863, Accuracy: 0.9671075344085693, Precision: 0.9441208839416504, F1 Score: 0.9547725915908813, Recall: 0.9671075344085693\n",
      "Test - Accuracy: 0.90, Precision: 0.94, F1 Score: 0.92, Recall: 0.90\n"
     ]
    },
    {
     "name": "stderr",
     "output_type": "stream",
     "text": [
      "Epoch 11/18: 100%|██████████| 82/82 [01:56<00:00,  1.42s/batch, loss=0.0855] \n"
     ]
    },
    {
     "name": "stdout",
     "output_type": "stream",
     "text": [
      "Epoch 11/18 - Loss: 0.08546532406585246, Accuracy: 0.9705771803855896, Precision: 0.9518598914146423, F1 Score: 0.960677981376648, Recall: 0.9705771803855896\n",
      "Test - Accuracy: 0.91, Precision: 0.94, F1 Score: 0.92, Recall: 0.91\n"
     ]
    },
    {
     "name": "stderr",
     "output_type": "stream",
     "text": [
      "Epoch 12/18: 100%|██████████| 82/82 [01:56<00:00,  1.42s/batch, loss=0.0885] \n"
     ]
    },
    {
     "name": "stdout",
     "output_type": "stream",
     "text": [
      "Epoch 12/18 - Loss: 0.08852151779049053, Accuracy: 0.9670923948287964, Precision: 0.9500880241394043, F1 Score: 0.9581430554389954, Recall: 0.9670923948287964\n",
      "Test - Accuracy: 0.92, Precision: 0.95, F1 Score: 0.93, Recall: 0.92\n"
     ]
    },
    {
     "name": "stderr",
     "output_type": "stream",
     "text": [
      "Epoch 13/18: 100%|██████████| 82/82 [01:57<00:00,  1.44s/batch, loss=0.0887] \n"
     ]
    },
    {
     "name": "stdout",
     "output_type": "stream",
     "text": [
      "Epoch 13/18 - Loss: 0.08869717756240833, Accuracy: 0.9678674936294556, Precision: 0.9452203512191772, F1 Score: 0.9557303190231323, Recall: 0.9678674936294556\n",
      "Test - Accuracy: 0.92, Precision: 0.95, F1 Score: 0.93, Recall: 0.92\n"
     ]
    },
    {
     "name": "stderr",
     "output_type": "stream",
     "text": [
      "Epoch 14/18: 100%|██████████| 82/82 [01:56<00:00,  1.43s/batch, loss=0.0813] \n"
     ]
    },
    {
     "name": "stdout",
     "output_type": "stream",
     "text": [
      "Epoch 14/18 - Loss: 0.0813422983103409, Accuracy: 0.9720258712768555, Precision: 0.9501340985298157, F1 Score: 0.9603322744369507, Recall: 0.9720258712768555\n",
      "Test - Accuracy: 0.91, Precision: 0.95, F1 Score: 0.93, Recall: 0.91\n"
     ]
    },
    {
     "name": "stderr",
     "output_type": "stream",
     "text": [
      "Epoch 15/18: 100%|██████████| 82/82 [01:56<00:00,  1.42s/batch, loss=0.0881] \n"
     ]
    },
    {
     "name": "stdout",
     "output_type": "stream",
     "text": [
      "Epoch 15/18 - Loss: 0.08808592684203531, Accuracy: 0.9706777334213257, Precision: 0.950586199760437, F1 Score: 0.9600051641464233, Recall: 0.9706777334213257\n",
      "Test - Accuracy: 0.91, Precision: 0.94, F1 Score: 0.92, Recall: 0.91\n"
     ]
    },
    {
     "name": "stderr",
     "output_type": "stream",
     "text": [
      "Epoch 16/18: 100%|██████████| 82/82 [01:57<00:00,  1.44s/batch, loss=0.0811]\n"
     ]
    },
    {
     "name": "stdout",
     "output_type": "stream",
     "text": [
      "Epoch 16/18 - Loss: 0.08114789471757121, Accuracy: 0.9734594821929932, Precision: 0.9544296264648438, F1 Score: 0.9633898138999939, Recall: 0.9734594821929932\n",
      "Test - Accuracy: 0.91, Precision: 0.94, F1 Score: 0.92, Recall: 0.91\n"
     ]
    },
    {
     "name": "stderr",
     "output_type": "stream",
     "text": [
      "Epoch 17/18: 100%|██████████| 82/82 [01:56<00:00,  1.42s/batch, loss=0.0839] \n"
     ]
    },
    {
     "name": "stdout",
     "output_type": "stream",
     "text": [
      "Epoch 17/18 - Loss: 0.08393475005584883, Accuracy: 0.970734715461731, Precision: 0.9537975788116455, F1 Score: 0.9618275165557861, Recall: 0.970734715461731\n",
      "Test - Accuracy: 0.92, Precision: 0.95, F1 Score: 0.93, Recall: 0.92\n"
     ]
    },
    {
     "name": "stderr",
     "output_type": "stream",
     "text": [
      "Epoch 18/18: 100%|██████████| 82/82 [01:56<00:00,  1.42s/batch, loss=0.0917]\n"
     ]
    },
    {
     "name": "stdout",
     "output_type": "stream",
     "text": [
      "Epoch 18/18 - Loss: 0.09173972170981692, Accuracy: 0.9681540727615356, Precision: 0.9473987817764282, F1 Score: 0.9571000933647156, Recall: 0.9681540727615356\n",
      "Test - Accuracy: 0.92, Precision: 0.95, F1 Score: 0.93, Recall: 0.92\n",
      "Test - Accuracy: 0.92, Precision: 0.95, F1 Score: 0.93, Recall: 0.92\n"
     ]
    }
   ],
   "source": [
    "batch_size = 64\n",
    "train_dataset.set_aug(aug=True, image_net=True)\n",
    "train_loader = DataLoader(train_dataset, batch_size=batch_size, shuffle=True)\n",
    "test_loader = DataLoader(test_dataset, batch_size=batch_size, shuffle=False)\n",
    "\n",
    "trainer = Trainer(train_loader, test_loader, model=model_resnet50)\n",
    "\n",
    "train_metrics = trainer.train(num_epochs=18)  # Ensure your train method returns the validation metric of interest\n",
    "test_metrics = trainer.test()  # Ensure your train method returns the validation metric of interest"
   ]
  },
  {
   "cell_type": "markdown",
   "metadata": {},
   "source": [
    "We can see that the model reaches a __testing accuracy of 0.92 and train accuracy of 0.96.__\n",
    "\n",
    "We will now show the correct and wrong predictions for each class using a confusion matrix: "
   ]
  },
  {
   "cell_type": "code",
   "execution_count": 46,
   "metadata": {},
   "outputs": [],
   "source": [
    "def plot_confusion_matrix(model, device, test_loader, class_names):\n",
    "    model.eval()  # set the model to evaluation mode\n",
    "    y_pred = []\n",
    "    y_true = []\n",
    "\n",
    "    with torch.no_grad():  # no need to track the gradients\n",
    "        for images, labels in test_loader:\n",
    "            images, labels = images.to(device), labels.to(device)\n",
    "            outputs = model(images)\n",
    "            _, predicted = torch.max(outputs, 1)\n",
    "            y_pred.extend(predicted.cpu().numpy())  # add predicted to y_pred\n",
    "            y_true.extend(labels.cpu().numpy())  # add true labels to y_true\n",
    "\n",
    "    cm = confusion_matrix(y_true, y_pred)\n",
    "\n",
    "    # plot confusion matrix\n",
    "    fig, ax = plt.subplots(figsize=(8, 8))\n",
    "    sns.heatmap(cm, annot=True, fmt='d', ax=ax, cmap='Blues', \n",
    "                xticklabels=class_names, yticklabels=class_names)\n",
    "    plt.ylabel('Actual')\n",
    "    plt.xlabel('Predicted')\n",
    "    plt.title('Confusion Matrix')\n",
    "    plt.show()\n",
    "\n",
    "    return cm \n"
   ]
  },
  {
   "cell_type": "code",
   "execution_count": 47,
   "metadata": {},
   "outputs": [
    {
     "data": {
      "image/png": "[encoded data removed]",
      "text/plain": [
       "<Figure size 800x800 with 2 Axes>"
      ]
     },
     "metadata": {},
     "output_type": "display_data"
    }
   ],
   "source": [
    "class_names = ['Normal', 'Pneumonia']\n",
    "cm = plot_confusion_matrix(model_resnet50, device, test_loader, class_names)"
   ]
  },
  {
   "cell_type": "markdown",
   "metadata": {},
   "source": [
    "The model shows promising balanced results between the PNEUOMONIA and NORMAL classes, despite their significance imbalance. This is likely to be attributed to the weighting mechanism incorporated within the loss function.\n",
    " "
   ]
  }
 ],
 "metadata": {
  "kernelspec": {
   "display_name": "py38",
   "language": "python",
   "name": "python3"
  },
  "language_info": {
   "codemirror_mode": {
    "name": "ipython",
    "version": 3
   },
   "file_extension": ".py",
   "mimetype": "text/x-python",
   "name": "python",
   "nbconvert_exporter": "python",
   "pygments_lexer": "ipython3",
   "version": "3.8.18"
  }
 },
 "nbformat": 4,
 "nbformat_minor": 2
}
